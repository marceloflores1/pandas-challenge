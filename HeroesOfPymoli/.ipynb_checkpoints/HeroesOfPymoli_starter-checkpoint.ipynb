{
 "cells": [
  {
   "cell_type": "markdown",
   "metadata": {},
   "source": [
    "### Note\n",
    "* Instructions have been included for each segment. You do not have to follow them exactly, but they are included to help you think through the steps."
   ]
  },
  {
   "cell_type": "code",
   "execution_count": 1,
   "metadata": {
    "scrolled": false
   },
   "outputs": [],
   "source": [
    "# Importing pandas\n",
    "import pandas as pd\n",
    "import numpy as np\n",
    "\n",
    "# Filepath\n",
    "csvfile = \"Resources/purchase_data.csv\"\n",
    "\n",
    "# Read file and create Dataframe\n",
    "purchase_data_df = pd.read_csv(csvfile)"
   ]
  },
  {
   "cell_type": "markdown",
   "metadata": {},
   "source": [
    "## Player Count"
   ]
  },
  {
   "cell_type": "markdown",
   "metadata": {},
   "source": [
    "* Display the total number of players\n"
   ]
  },
  {
   "cell_type": "code",
   "execution_count": 2,
   "metadata": {},
   "outputs": [
    {
     "data": {
      "text/html": [
       "<style  type=\"text/css\" >\n",
       "#T_9dab1500_9e4d_11eb_ba96_784f436a046arow0_col0{\n",
       "            text-align:  left;\n",
       "        }</style><table id=\"T_9dab1500_9e4d_11eb_ba96_784f436a046a\" ><thead>    <tr>        <th class=\"blank level0\" ></th>        <th class=\"col_heading level0 col0\" >Total Players</th>    </tr></thead><tbody>\n",
       "                <tr>\n",
       "                        <th id=\"T_9dab1500_9e4d_11eb_ba96_784f436a046alevel0_row0\" class=\"row_heading level0 row0\" >0</th>\n",
       "                        <td id=\"T_9dab1500_9e4d_11eb_ba96_784f436a046arow0_col0\" class=\"data row0 col0\" >576</td>\n",
       "            </tr>\n",
       "    </tbody></table>"
      ],
      "text/plain": [
       "<pandas.io.formats.style.Styler at 0x7f9ef772b6d0>"
      ]
     },
     "execution_count": 2,
     "metadata": {},
     "output_type": "execute_result"
    }
   ],
   "source": [
    "#Get the total player count and store in DF\n",
    "total_players = len(purchase_data_df[\"SN\"].unique())\n",
    "player_count_df = pd.DataFrame({\"Total Players\":[total_players]})\n",
    "\n",
    "#Format\n",
    "player_count_df.style.set_properties(**{'text-align': 'left'})"
   ]
  },
  {
   "cell_type": "markdown",
   "metadata": {},
   "source": [
    "## Purchasing Analysis (Total)"
   ]
  },
  {
   "cell_type": "markdown",
   "metadata": {},
   "source": [
    "* Run basic calculations to obtain number of unique items, average price, etc.\n",
    "\n",
    "\n",
    "* Create a summary data frame to hold the results\n",
    "\n",
    "\n",
    "* Optional: give the displayed data cleaner formatting\n",
    "\n",
    "\n",
    "* Display the summary data frame\n"
   ]
  },
  {
   "cell_type": "code",
   "execution_count": 3,
   "metadata": {
    "scrolled": true
   },
   "outputs": [
    {
     "data": {
      "text/html": [
       "<style  type=\"text/css\" >\n",
       "    #T_9daf9864_9e4d_11eb_ba96_784f436a046a th {\n",
       "          text-align: left;\n",
       "    }#T_9daf9864_9e4d_11eb_ba96_784f436a046arow0_col0,#T_9daf9864_9e4d_11eb_ba96_784f436a046arow0_col1,#T_9daf9864_9e4d_11eb_ba96_784f436a046arow0_col2,#T_9daf9864_9e4d_11eb_ba96_784f436a046arow0_col3{\n",
       "            text-align:  left;\n",
       "        }</style><table id=\"T_9daf9864_9e4d_11eb_ba96_784f436a046a\" ><thead>    <tr>        <th class=\"blank level0\" ></th>        <th class=\"col_heading level0 col0\" >Number of Unique Items</th>        <th class=\"col_heading level0 col1\" >Average Price</th>        <th class=\"col_heading level0 col2\" >Number of Purchases</th>        <th class=\"col_heading level0 col3\" >Total Revenue</th>    </tr></thead><tbody>\n",
       "                <tr>\n",
       "                        <th id=\"T_9daf9864_9e4d_11eb_ba96_784f436a046alevel0_row0\" class=\"row_heading level0 row0\" >0</th>\n",
       "                        <td id=\"T_9daf9864_9e4d_11eb_ba96_784f436a046arow0_col0\" class=\"data row0 col0\" >179</td>\n",
       "                        <td id=\"T_9daf9864_9e4d_11eb_ba96_784f436a046arow0_col1\" class=\"data row0 col1\" >$3.05</td>\n",
       "                        <td id=\"T_9daf9864_9e4d_11eb_ba96_784f436a046arow0_col2\" class=\"data row0 col2\" >780</td>\n",
       "                        <td id=\"T_9daf9864_9e4d_11eb_ba96_784f436a046arow0_col3\" class=\"data row0 col3\" >$2,379.77</td>\n",
       "            </tr>\n",
       "    </tbody></table>"
      ],
      "text/plain": [
       "<pandas.io.formats.style.Styler at 0x7f9ef8bd4220>"
      ]
     },
     "execution_count": 3,
     "metadata": {},
     "output_type": "execute_result"
    }
   ],
   "source": [
    "#Obtaining different information\n",
    "unique_items = len(purchase_data_df[\"Item Name\"].unique())\n",
    "average_price = \"${:,.2f}\". format(purchase_data_df[\"Price\"].mean())\n",
    "total_purchases = len(purchase_data_df)\n",
    "total_revenue = \"${:,.2f}\". format(purchase_data_df[\"Price\"].sum())\n",
    "\n",
    "#Store in dataframe\n",
    "purchasing_analysis_df = pd.DataFrame({\n",
    "    \"Number of Unique Items\":[unique_items],\n",
    "    \"Average Price\":[average_price],\n",
    "    \"Number of Purchases\":[total_purchases],\n",
    "    \"Total Revenue\":[total_revenue]\n",
    "})\n",
    "\n",
    "#Format\n",
    "purchasing_analysis_df.style.set_properties(**{'text-align': 'left'}).set_table_styles([dict(selector='th', props=[('text-align', 'left')])])"
   ]
  },
  {
   "cell_type": "markdown",
   "metadata": {},
   "source": [
    "## Gender Demographics"
   ]
  },
  {
   "cell_type": "markdown",
   "metadata": {},
   "source": [
    "* Percentage and Count of Male Players\n",
    "\n",
    "\n",
    "* Percentage and Count of Female Players\n",
    "\n",
    "\n",
    "* Percentage and Count of Other / Non-Disclosed\n",
    "\n",
    "\n"
   ]
  },
  {
   "cell_type": "code",
   "execution_count": 4,
   "metadata": {},
   "outputs": [
    {
     "data": {
      "text/html": [
       "<style  type=\"text/css\" >\n",
       "    #T_9dbb361a_9e4d_11eb_ba96_784f436a046a th {\n",
       "          text-align: left;\n",
       "    }#T_9dbb361a_9e4d_11eb_ba96_784f436a046arow0_col0,#T_9dbb361a_9e4d_11eb_ba96_784f436a046arow0_col1,#T_9dbb361a_9e4d_11eb_ba96_784f436a046arow1_col0,#T_9dbb361a_9e4d_11eb_ba96_784f436a046arow1_col1,#T_9dbb361a_9e4d_11eb_ba96_784f436a046arow2_col0,#T_9dbb361a_9e4d_11eb_ba96_784f436a046arow2_col1{\n",
       "            text-align:  left;\n",
       "        }</style><table id=\"T_9dbb361a_9e4d_11eb_ba96_784f436a046a\" ><thead>    <tr>        <th class=\"blank level0\" ></th>        <th class=\"col_heading level0 col0\" >Total Count</th>        <th class=\"col_heading level0 col1\" >Percentage</th>    </tr>    <tr>        <th class=\"index_name level0\" ></th>        <th class=\"blank\" ></th>        <th class=\"blank\" ></th>    </tr></thead><tbody>\n",
       "                <tr>\n",
       "                        <th id=\"T_9dbb361a_9e4d_11eb_ba96_784f436a046alevel0_row0\" class=\"row_heading level0 row0\" >Male</th>\n",
       "                        <td id=\"T_9dbb361a_9e4d_11eb_ba96_784f436a046arow0_col0\" class=\"data row0 col0\" >484</td>\n",
       "                        <td id=\"T_9dbb361a_9e4d_11eb_ba96_784f436a046arow0_col1\" class=\"data row0 col1\" >84.03%</td>\n",
       "            </tr>\n",
       "            <tr>\n",
       "                        <th id=\"T_9dbb361a_9e4d_11eb_ba96_784f436a046alevel0_row1\" class=\"row_heading level0 row1\" >Female</th>\n",
       "                        <td id=\"T_9dbb361a_9e4d_11eb_ba96_784f436a046arow1_col0\" class=\"data row1 col0\" >81</td>\n",
       "                        <td id=\"T_9dbb361a_9e4d_11eb_ba96_784f436a046arow1_col1\" class=\"data row1 col1\" >14.06%</td>\n",
       "            </tr>\n",
       "            <tr>\n",
       "                        <th id=\"T_9dbb361a_9e4d_11eb_ba96_784f436a046alevel0_row2\" class=\"row_heading level0 row2\" >Other / Non-Disclosed</th>\n",
       "                        <td id=\"T_9dbb361a_9e4d_11eb_ba96_784f436a046arow2_col0\" class=\"data row2 col0\" >11</td>\n",
       "                        <td id=\"T_9dbb361a_9e4d_11eb_ba96_784f436a046arow2_col1\" class=\"data row2 col1\" >1.91%</td>\n",
       "            </tr>\n",
       "    </tbody></table>"
      ],
      "text/plain": [
       "<pandas.io.formats.style.Styler at 0x7f9ef6361850>"
      ]
     },
     "execution_count": 4,
     "metadata": {},
     "output_type": "execute_result"
    }
   ],
   "source": [
    "#Drop duplicates to get unique players \n",
    "unique_players_df = purchase_data_df.drop_duplicates([\"SN\"])\n",
    "\n",
    "#Obtain different information by gender \n",
    "male_count = unique_players_df.loc[unique_players_df[\"Gender\"] == \"Male\",\"SN\"].count()\n",
    "male_percent = \"{:.2%}\". format(male_count/total_players)\n",
    "female_count = unique_players_df.loc[unique_players_df[\"Gender\"] == \"Female\",\"SN\"].count()\n",
    "female_percent = \"{:.2%}\". format(female_count/total_players)\n",
    "others_count = unique_players_df.loc[unique_players_df[\"Gender\"] == \"Other / Non-Disclosed\",\"SN\"].count()\n",
    "others_percent = \"{:.2%}\". format(others_count/total_players)\n",
    "\n",
    "#Store in new DF\n",
    "gender_demographics_df = pd.DataFrame({\n",
    "    \"\":[\"Male\", \"Female\", \"Other / Non-Disclosed\"],\n",
    "    \"Total Count\":[male_count, female_count, others_count],\n",
    "    \"Percentage\":[male_percent, female_percent, others_percent],\n",
    "    })\n",
    "gender_demographics_df.set_index(\"\").style.set_properties(**{'text-align': 'left'}).set_table_styles([dict(selector='th', props=[('text-align', 'left')])])"
   ]
  },
  {
   "cell_type": "markdown",
   "metadata": {},
   "source": [
    "\n",
    "## Purchasing Analysis (Gender)"
   ]
  },
  {
   "cell_type": "markdown",
   "metadata": {},
   "source": [
    "* Run basic calculations to obtain purchase count, avg. purchase price, avg. purchase total per person etc. by gender\n",
    "\n",
    "\n",
    "\n",
    "\n",
    "* Create a summary data frame to hold the results\n",
    "\n",
    "\n",
    "* Optional: give the displayed data cleaner formatting\n",
    "\n",
    "\n",
    "* Display the summary data frame"
   ]
  },
  {
   "cell_type": "code",
   "execution_count": 5,
   "metadata": {
    "scrolled": true
   },
   "outputs": [
    {
     "data": {
      "text/html": [
       "<style  type=\"text/css\" >\n",
       "    #T_9dcdae08_9e4d_11eb_ba96_784f436a046a th {\n",
       "          text-align: left;\n",
       "    }#T_9dcdae08_9e4d_11eb_ba96_784f436a046arow0_col0,#T_9dcdae08_9e4d_11eb_ba96_784f436a046arow0_col1,#T_9dcdae08_9e4d_11eb_ba96_784f436a046arow0_col2,#T_9dcdae08_9e4d_11eb_ba96_784f436a046arow0_col3,#T_9dcdae08_9e4d_11eb_ba96_784f436a046arow1_col0,#T_9dcdae08_9e4d_11eb_ba96_784f436a046arow1_col1,#T_9dcdae08_9e4d_11eb_ba96_784f436a046arow1_col2,#T_9dcdae08_9e4d_11eb_ba96_784f436a046arow1_col3,#T_9dcdae08_9e4d_11eb_ba96_784f436a046arow2_col0,#T_9dcdae08_9e4d_11eb_ba96_784f436a046arow2_col1,#T_9dcdae08_9e4d_11eb_ba96_784f436a046arow2_col2,#T_9dcdae08_9e4d_11eb_ba96_784f436a046arow2_col3{\n",
       "            text-align:  left;\n",
       "        }</style><table id=\"T_9dcdae08_9e4d_11eb_ba96_784f436a046a\" ><thead>    <tr>        <th class=\"blank level0\" ></th>        <th class=\"col_heading level0 col0\" >Purchase Count</th>        <th class=\"col_heading level0 col1\" >Average Purchase Price</th>        <th class=\"col_heading level0 col2\" >Total Purchase Value</th>        <th class=\"col_heading level0 col3\" >Avg Total Purchase per Person</th>    </tr>    <tr>        <th class=\"index_name level0\" >Gender</th>        <th class=\"blank\" ></th>        <th class=\"blank\" ></th>        <th class=\"blank\" ></th>        <th class=\"blank\" ></th>    </tr></thead><tbody>\n",
       "                <tr>\n",
       "                        <th id=\"T_9dcdae08_9e4d_11eb_ba96_784f436a046alevel0_row0\" class=\"row_heading level0 row0\" >Female</th>\n",
       "                        <td id=\"T_9dcdae08_9e4d_11eb_ba96_784f436a046arow0_col0\" class=\"data row0 col0\" >113</td>\n",
       "                        <td id=\"T_9dcdae08_9e4d_11eb_ba96_784f436a046arow0_col1\" class=\"data row0 col1\" >$3.20</td>\n",
       "                        <td id=\"T_9dcdae08_9e4d_11eb_ba96_784f436a046arow0_col2\" class=\"data row0 col2\" >$361.94</td>\n",
       "                        <td id=\"T_9dcdae08_9e4d_11eb_ba96_784f436a046arow0_col3\" class=\"data row0 col3\" >$4.47</td>\n",
       "            </tr>\n",
       "            <tr>\n",
       "                        <th id=\"T_9dcdae08_9e4d_11eb_ba96_784f436a046alevel0_row1\" class=\"row_heading level0 row1\" >Male</th>\n",
       "                        <td id=\"T_9dcdae08_9e4d_11eb_ba96_784f436a046arow1_col0\" class=\"data row1 col0\" >652</td>\n",
       "                        <td id=\"T_9dcdae08_9e4d_11eb_ba96_784f436a046arow1_col1\" class=\"data row1 col1\" >$3.02</td>\n",
       "                        <td id=\"T_9dcdae08_9e4d_11eb_ba96_784f436a046arow1_col2\" class=\"data row1 col2\" >$1,967.64</td>\n",
       "                        <td id=\"T_9dcdae08_9e4d_11eb_ba96_784f436a046arow1_col3\" class=\"data row1 col3\" >$4.07</td>\n",
       "            </tr>\n",
       "            <tr>\n",
       "                        <th id=\"T_9dcdae08_9e4d_11eb_ba96_784f436a046alevel0_row2\" class=\"row_heading level0 row2\" >Other / Non-Disclosed</th>\n",
       "                        <td id=\"T_9dcdae08_9e4d_11eb_ba96_784f436a046arow2_col0\" class=\"data row2 col0\" >15</td>\n",
       "                        <td id=\"T_9dcdae08_9e4d_11eb_ba96_784f436a046arow2_col1\" class=\"data row2 col1\" >$3.35</td>\n",
       "                        <td id=\"T_9dcdae08_9e4d_11eb_ba96_784f436a046arow2_col2\" class=\"data row2 col2\" >$50.19</td>\n",
       "                        <td id=\"T_9dcdae08_9e4d_11eb_ba96_784f436a046arow2_col3\" class=\"data row2 col3\" >$4.56</td>\n",
       "            </tr>\n",
       "    </tbody></table>"
      ],
      "text/plain": [
       "<pandas.io.formats.style.Styler at 0x7f9ef8b54b20>"
      ]
     },
     "execution_count": 5,
     "metadata": {},
     "output_type": "execute_result"
    }
   ],
   "source": [
    "#New df grouped by adding count, mean, sum\n",
    "gender_df = purchase_data_df.groupby(\"Gender\")[\"Price\"].agg(['count','mean','sum'])\n",
    "\n",
    "#Rename columns\n",
    "gender_renamed_df = gender_df.rename(columns={\n",
    "    \"count\":\"Purchase Count\",\n",
    "    \"mean\":\"Average Purchase Price\",\n",
    "    \"sum\":\"Total Purchase Value\"\n",
    "})\n",
    "\n",
    "#Add unique buyers & calculate average\n",
    "gender_renamed_df[\"Unique Buyers\"] = [81,484,11]\n",
    "gender_renamed_df[\"Avg Total Purchase per Person\"] = (gender_renamed_df[\"Total Purchase Value\"]/gender_renamed_df[\"Unique Buyers\"])\n",
    "\n",
    "#Create gender_demographics_df with format\n",
    "gender_demographics_df = gender_renamed_df[[\"Purchase Count\",\"Average Purchase Price\",\"Total Purchase Value\",\"Avg Total Purchase per Person\"]].style.format({'Average Purchase Price':'${:,.2f}','Total Purchase Value':'${:,.2f}','Avg Total Purchase per Person':'${:,.2f}' })\n",
    "gender_demographics_df.set_properties(**{'text-align': 'left'}).set_table_styles([dict(selector='th', props=[('text-align', 'left')])])"
   ]
  },
  {
   "cell_type": "markdown",
   "metadata": {},
   "source": [
    "## Age Demographics"
   ]
  },
  {
   "cell_type": "markdown",
   "metadata": {},
   "source": [
    "* Establish bins for ages\n",
    "\n",
    "\n",
    "* Categorize the existing players using the age bins. Hint: use pd.cut()\n",
    "\n",
    "\n",
    "* Calculate the numbers and percentages by age group\n",
    "\n",
    "\n",
    "* Create a summary data frame to hold the results\n",
    "\n",
    "\n",
    "* Optional: round the percentage column to two decimal points\n",
    "\n",
    "\n",
    "* Display Age Demographics Table\n"
   ]
  },
  {
   "cell_type": "code",
   "execution_count": 6,
   "metadata": {
    "scrolled": false
   },
   "outputs": [
    {
     "data": {
      "text/html": [
       "<style  type=\"text/css\" >\n",
       "    #T_9dd7b5d8_9e4d_11eb_ba96_784f436a046a th {\n",
       "          text-align: left;\n",
       "    }#T_9dd7b5d8_9e4d_11eb_ba96_784f436a046arow0_col0,#T_9dd7b5d8_9e4d_11eb_ba96_784f436a046arow0_col1,#T_9dd7b5d8_9e4d_11eb_ba96_784f436a046arow1_col0,#T_9dd7b5d8_9e4d_11eb_ba96_784f436a046arow1_col1,#T_9dd7b5d8_9e4d_11eb_ba96_784f436a046arow2_col0,#T_9dd7b5d8_9e4d_11eb_ba96_784f436a046arow2_col1,#T_9dd7b5d8_9e4d_11eb_ba96_784f436a046arow3_col0,#T_9dd7b5d8_9e4d_11eb_ba96_784f436a046arow3_col1,#T_9dd7b5d8_9e4d_11eb_ba96_784f436a046arow4_col0,#T_9dd7b5d8_9e4d_11eb_ba96_784f436a046arow4_col1,#T_9dd7b5d8_9e4d_11eb_ba96_784f436a046arow5_col0,#T_9dd7b5d8_9e4d_11eb_ba96_784f436a046arow5_col1,#T_9dd7b5d8_9e4d_11eb_ba96_784f436a046arow6_col0,#T_9dd7b5d8_9e4d_11eb_ba96_784f436a046arow6_col1,#T_9dd7b5d8_9e4d_11eb_ba96_784f436a046arow7_col0,#T_9dd7b5d8_9e4d_11eb_ba96_784f436a046arow7_col1{\n",
       "            text-align:  left;\n",
       "        }</style><table id=\"T_9dd7b5d8_9e4d_11eb_ba96_784f436a046a\" ><thead>    <tr>        <th class=\"blank level0\" ></th>        <th class=\"col_heading level0 col0\" >Total Count</th>        <th class=\"col_heading level0 col1\" >Percentage of Players</th>    </tr>    <tr>        <th class=\"index_name level0\" >Age Ranges</th>        <th class=\"blank\" ></th>        <th class=\"blank\" ></th>    </tr></thead><tbody>\n",
       "                <tr>\n",
       "                        <th id=\"T_9dd7b5d8_9e4d_11eb_ba96_784f436a046alevel0_row0\" class=\"row_heading level0 row0\" ><10</th>\n",
       "                        <td id=\"T_9dd7b5d8_9e4d_11eb_ba96_784f436a046arow0_col0\" class=\"data row0 col0\" >17</td>\n",
       "                        <td id=\"T_9dd7b5d8_9e4d_11eb_ba96_784f436a046arow0_col1\" class=\"data row0 col1\" >2.95%</td>\n",
       "            </tr>\n",
       "            <tr>\n",
       "                        <th id=\"T_9dd7b5d8_9e4d_11eb_ba96_784f436a046alevel0_row1\" class=\"row_heading level0 row1\" >10-14</th>\n",
       "                        <td id=\"T_9dd7b5d8_9e4d_11eb_ba96_784f436a046arow1_col0\" class=\"data row1 col0\" >22</td>\n",
       "                        <td id=\"T_9dd7b5d8_9e4d_11eb_ba96_784f436a046arow1_col1\" class=\"data row1 col1\" >3.82%</td>\n",
       "            </tr>\n",
       "            <tr>\n",
       "                        <th id=\"T_9dd7b5d8_9e4d_11eb_ba96_784f436a046alevel0_row2\" class=\"row_heading level0 row2\" >15-19</th>\n",
       "                        <td id=\"T_9dd7b5d8_9e4d_11eb_ba96_784f436a046arow2_col0\" class=\"data row2 col0\" >107</td>\n",
       "                        <td id=\"T_9dd7b5d8_9e4d_11eb_ba96_784f436a046arow2_col1\" class=\"data row2 col1\" >18.58%</td>\n",
       "            </tr>\n",
       "            <tr>\n",
       "                        <th id=\"T_9dd7b5d8_9e4d_11eb_ba96_784f436a046alevel0_row3\" class=\"row_heading level0 row3\" >20-24</th>\n",
       "                        <td id=\"T_9dd7b5d8_9e4d_11eb_ba96_784f436a046arow3_col0\" class=\"data row3 col0\" >258</td>\n",
       "                        <td id=\"T_9dd7b5d8_9e4d_11eb_ba96_784f436a046arow3_col1\" class=\"data row3 col1\" >44.79%</td>\n",
       "            </tr>\n",
       "            <tr>\n",
       "                        <th id=\"T_9dd7b5d8_9e4d_11eb_ba96_784f436a046alevel0_row4\" class=\"row_heading level0 row4\" >25-29</th>\n",
       "                        <td id=\"T_9dd7b5d8_9e4d_11eb_ba96_784f436a046arow4_col0\" class=\"data row4 col0\" >77</td>\n",
       "                        <td id=\"T_9dd7b5d8_9e4d_11eb_ba96_784f436a046arow4_col1\" class=\"data row4 col1\" >13.37%</td>\n",
       "            </tr>\n",
       "            <tr>\n",
       "                        <th id=\"T_9dd7b5d8_9e4d_11eb_ba96_784f436a046alevel0_row5\" class=\"row_heading level0 row5\" >30-34</th>\n",
       "                        <td id=\"T_9dd7b5d8_9e4d_11eb_ba96_784f436a046arow5_col0\" class=\"data row5 col0\" >52</td>\n",
       "                        <td id=\"T_9dd7b5d8_9e4d_11eb_ba96_784f436a046arow5_col1\" class=\"data row5 col1\" >9.03%</td>\n",
       "            </tr>\n",
       "            <tr>\n",
       "                        <th id=\"T_9dd7b5d8_9e4d_11eb_ba96_784f436a046alevel0_row6\" class=\"row_heading level0 row6\" >35-39</th>\n",
       "                        <td id=\"T_9dd7b5d8_9e4d_11eb_ba96_784f436a046arow6_col0\" class=\"data row6 col0\" >31</td>\n",
       "                        <td id=\"T_9dd7b5d8_9e4d_11eb_ba96_784f436a046arow6_col1\" class=\"data row6 col1\" >5.38%</td>\n",
       "            </tr>\n",
       "            <tr>\n",
       "                        <th id=\"T_9dd7b5d8_9e4d_11eb_ba96_784f436a046alevel0_row7\" class=\"row_heading level0 row7\" >40+</th>\n",
       "                        <td id=\"T_9dd7b5d8_9e4d_11eb_ba96_784f436a046arow7_col0\" class=\"data row7 col0\" >12</td>\n",
       "                        <td id=\"T_9dd7b5d8_9e4d_11eb_ba96_784f436a046arow7_col1\" class=\"data row7 col1\" >2.08%</td>\n",
       "            </tr>\n",
       "    </tbody></table>"
      ],
      "text/plain": [
       "<pandas.io.formats.style.Styler at 0x7f9ef8c692e0>"
      ]
     },
     "execution_count": 6,
     "metadata": {},
     "output_type": "execute_result"
    }
   ],
   "source": [
    "#Create bins and categories\n",
    "bins = [0,9.9,14.9,19.9,24.9,29.9,34.9,39.9,1000]\n",
    "age_categories = [\"<10\",\"10-14\",\"15-19\",\"20-24\",\"25-29\",\"30-34\",\"35-39\",\"40+\"]\n",
    "\n",
    "#Copied unique players df and added Age Ranges\n",
    "unique_bins_df = unique_players_df.copy()\n",
    "unique_bins_df[\"Age Ranges\"] = pd.cut(unique_players_df['Age'],bins,labels=age_categories,include_lowest=True)\n",
    "\n",
    "#Grouped to get count and calculated percentage\n",
    "grouped_bins_df = unique_bins_df.groupby(\"Age Ranges\")[\"SN\"].agg(['count'])\n",
    "grouped_bins_df[\"Percentage of Players\"] = grouped_bins_df['count']/grouped_bins_df['count'].sum()\n",
    "\n",
    "#Renamed categories and formatting\n",
    "grouped_bins_renamed_df = grouped_bins_df.rename(columns={\n",
    "    \"count\":\"Total Count\",\n",
    "})\n",
    "age_demographics_df = grouped_bins_renamed_df[[\"Total Count\",\"Percentage of Players\"]].style.format({'Percentage of Players':'{:.2%}'})\n",
    "age_demographics_df.set_properties(**{'text-align': 'left'}).set_table_styles([dict(selector='th', props=[('text-align', 'left')])])\n"
   ]
  },
  {
   "cell_type": "markdown",
   "metadata": {},
   "source": [
    "## Purchasing Analysis (Age)"
   ]
  },
  {
   "cell_type": "markdown",
   "metadata": {},
   "source": [
    "* Bin the purchase_data data frame by age\n",
    "\n",
    "\n",
    "* Run basic calculations to obtain purchase count, avg. purchase price, avg. purchase total per person etc. in the table below\n",
    "\n",
    "\n",
    "* Create a summary data frame to hold the results\n",
    "\n",
    "\n",
    "* Optional: give the displayed data cleaner formatting\n",
    "\n",
    "\n",
    "* Display the summary data frame"
   ]
  },
  {
   "cell_type": "code",
   "execution_count": 7,
   "metadata": {},
   "outputs": [
    {
     "data": {
      "text/html": [
       "<style  type=\"text/css\" >\n",
       "    #T_9de3657c_9e4d_11eb_ba96_784f436a046a th {\n",
       "          text-align: left;\n",
       "    }#T_9de3657c_9e4d_11eb_ba96_784f436a046arow0_col0,#T_9de3657c_9e4d_11eb_ba96_784f436a046arow0_col1,#T_9de3657c_9e4d_11eb_ba96_784f436a046arow0_col2,#T_9de3657c_9e4d_11eb_ba96_784f436a046arow0_col3,#T_9de3657c_9e4d_11eb_ba96_784f436a046arow1_col0,#T_9de3657c_9e4d_11eb_ba96_784f436a046arow1_col1,#T_9de3657c_9e4d_11eb_ba96_784f436a046arow1_col2,#T_9de3657c_9e4d_11eb_ba96_784f436a046arow1_col3,#T_9de3657c_9e4d_11eb_ba96_784f436a046arow2_col0,#T_9de3657c_9e4d_11eb_ba96_784f436a046arow2_col1,#T_9de3657c_9e4d_11eb_ba96_784f436a046arow2_col2,#T_9de3657c_9e4d_11eb_ba96_784f436a046arow2_col3,#T_9de3657c_9e4d_11eb_ba96_784f436a046arow3_col0,#T_9de3657c_9e4d_11eb_ba96_784f436a046arow3_col1,#T_9de3657c_9e4d_11eb_ba96_784f436a046arow3_col2,#T_9de3657c_9e4d_11eb_ba96_784f436a046arow3_col3,#T_9de3657c_9e4d_11eb_ba96_784f436a046arow4_col0,#T_9de3657c_9e4d_11eb_ba96_784f436a046arow4_col1,#T_9de3657c_9e4d_11eb_ba96_784f436a046arow4_col2,#T_9de3657c_9e4d_11eb_ba96_784f436a046arow4_col3,#T_9de3657c_9e4d_11eb_ba96_784f436a046arow5_col0,#T_9de3657c_9e4d_11eb_ba96_784f436a046arow5_col1,#T_9de3657c_9e4d_11eb_ba96_784f436a046arow5_col2,#T_9de3657c_9e4d_11eb_ba96_784f436a046arow5_col3,#T_9de3657c_9e4d_11eb_ba96_784f436a046arow6_col0,#T_9de3657c_9e4d_11eb_ba96_784f436a046arow6_col1,#T_9de3657c_9e4d_11eb_ba96_784f436a046arow6_col2,#T_9de3657c_9e4d_11eb_ba96_784f436a046arow6_col3,#T_9de3657c_9e4d_11eb_ba96_784f436a046arow7_col0,#T_9de3657c_9e4d_11eb_ba96_784f436a046arow7_col1,#T_9de3657c_9e4d_11eb_ba96_784f436a046arow7_col2,#T_9de3657c_9e4d_11eb_ba96_784f436a046arow7_col3{\n",
       "            text-align:  left;\n",
       "        }</style><table id=\"T_9de3657c_9e4d_11eb_ba96_784f436a046a\" ><thead>    <tr>        <th class=\"blank level0\" ></th>        <th class=\"col_heading level0 col0\" >Purchase Count</th>        <th class=\"col_heading level0 col1\" >Average Purchase Price</th>        <th class=\"col_heading level0 col2\" >Total Purchase Value</th>        <th class=\"col_heading level0 col3\" >Avg Total Purchase per Person</th>    </tr>    <tr>        <th class=\"index_name level0\" >Age Ranges</th>        <th class=\"blank\" ></th>        <th class=\"blank\" ></th>        <th class=\"blank\" ></th>        <th class=\"blank\" ></th>    </tr></thead><tbody>\n",
       "                <tr>\n",
       "                        <th id=\"T_9de3657c_9e4d_11eb_ba96_784f436a046alevel0_row0\" class=\"row_heading level0 row0\" ><10</th>\n",
       "                        <td id=\"T_9de3657c_9e4d_11eb_ba96_784f436a046arow0_col0\" class=\"data row0 col0\" >23</td>\n",
       "                        <td id=\"T_9de3657c_9e4d_11eb_ba96_784f436a046arow0_col1\" class=\"data row0 col1\" >$3.35</td>\n",
       "                        <td id=\"T_9de3657c_9e4d_11eb_ba96_784f436a046arow0_col2\" class=\"data row0 col2\" >$77.13</td>\n",
       "                        <td id=\"T_9de3657c_9e4d_11eb_ba96_784f436a046arow0_col3\" class=\"data row0 col3\" >$4.54</td>\n",
       "            </tr>\n",
       "            <tr>\n",
       "                        <th id=\"T_9de3657c_9e4d_11eb_ba96_784f436a046alevel0_row1\" class=\"row_heading level0 row1\" >10-14</th>\n",
       "                        <td id=\"T_9de3657c_9e4d_11eb_ba96_784f436a046arow1_col0\" class=\"data row1 col0\" >28</td>\n",
       "                        <td id=\"T_9de3657c_9e4d_11eb_ba96_784f436a046arow1_col1\" class=\"data row1 col1\" >$2.96</td>\n",
       "                        <td id=\"T_9de3657c_9e4d_11eb_ba96_784f436a046arow1_col2\" class=\"data row1 col2\" >$82.78</td>\n",
       "                        <td id=\"T_9de3657c_9e4d_11eb_ba96_784f436a046arow1_col3\" class=\"data row1 col3\" >$3.76</td>\n",
       "            </tr>\n",
       "            <tr>\n",
       "                        <th id=\"T_9de3657c_9e4d_11eb_ba96_784f436a046alevel0_row2\" class=\"row_heading level0 row2\" >15-19</th>\n",
       "                        <td id=\"T_9de3657c_9e4d_11eb_ba96_784f436a046arow2_col0\" class=\"data row2 col0\" >136</td>\n",
       "                        <td id=\"T_9de3657c_9e4d_11eb_ba96_784f436a046arow2_col1\" class=\"data row2 col1\" >$3.04</td>\n",
       "                        <td id=\"T_9de3657c_9e4d_11eb_ba96_784f436a046arow2_col2\" class=\"data row2 col2\" >$412.89</td>\n",
       "                        <td id=\"T_9de3657c_9e4d_11eb_ba96_784f436a046arow2_col3\" class=\"data row2 col3\" >$3.86</td>\n",
       "            </tr>\n",
       "            <tr>\n",
       "                        <th id=\"T_9de3657c_9e4d_11eb_ba96_784f436a046alevel0_row3\" class=\"row_heading level0 row3\" >20-24</th>\n",
       "                        <td id=\"T_9de3657c_9e4d_11eb_ba96_784f436a046arow3_col0\" class=\"data row3 col0\" >365</td>\n",
       "                        <td id=\"T_9de3657c_9e4d_11eb_ba96_784f436a046arow3_col1\" class=\"data row3 col1\" >$3.05</td>\n",
       "                        <td id=\"T_9de3657c_9e4d_11eb_ba96_784f436a046arow3_col2\" class=\"data row3 col2\" >$1,114.06</td>\n",
       "                        <td id=\"T_9de3657c_9e4d_11eb_ba96_784f436a046arow3_col3\" class=\"data row3 col3\" >$4.32</td>\n",
       "            </tr>\n",
       "            <tr>\n",
       "                        <th id=\"T_9de3657c_9e4d_11eb_ba96_784f436a046alevel0_row4\" class=\"row_heading level0 row4\" >25-29</th>\n",
       "                        <td id=\"T_9de3657c_9e4d_11eb_ba96_784f436a046arow4_col0\" class=\"data row4 col0\" >101</td>\n",
       "                        <td id=\"T_9de3657c_9e4d_11eb_ba96_784f436a046arow4_col1\" class=\"data row4 col1\" >$2.90</td>\n",
       "                        <td id=\"T_9de3657c_9e4d_11eb_ba96_784f436a046arow4_col2\" class=\"data row4 col2\" >$293.00</td>\n",
       "                        <td id=\"T_9de3657c_9e4d_11eb_ba96_784f436a046arow4_col3\" class=\"data row4 col3\" >$3.81</td>\n",
       "            </tr>\n",
       "            <tr>\n",
       "                        <th id=\"T_9de3657c_9e4d_11eb_ba96_784f436a046alevel0_row5\" class=\"row_heading level0 row5\" >30-34</th>\n",
       "                        <td id=\"T_9de3657c_9e4d_11eb_ba96_784f436a046arow5_col0\" class=\"data row5 col0\" >73</td>\n",
       "                        <td id=\"T_9de3657c_9e4d_11eb_ba96_784f436a046arow5_col1\" class=\"data row5 col1\" >$2.93</td>\n",
       "                        <td id=\"T_9de3657c_9e4d_11eb_ba96_784f436a046arow5_col2\" class=\"data row5 col2\" >$214.00</td>\n",
       "                        <td id=\"T_9de3657c_9e4d_11eb_ba96_784f436a046arow5_col3\" class=\"data row5 col3\" >$4.12</td>\n",
       "            </tr>\n",
       "            <tr>\n",
       "                        <th id=\"T_9de3657c_9e4d_11eb_ba96_784f436a046alevel0_row6\" class=\"row_heading level0 row6\" >35-39</th>\n",
       "                        <td id=\"T_9de3657c_9e4d_11eb_ba96_784f436a046arow6_col0\" class=\"data row6 col0\" >41</td>\n",
       "                        <td id=\"T_9de3657c_9e4d_11eb_ba96_784f436a046arow6_col1\" class=\"data row6 col1\" >$3.60</td>\n",
       "                        <td id=\"T_9de3657c_9e4d_11eb_ba96_784f436a046arow6_col2\" class=\"data row6 col2\" >$147.67</td>\n",
       "                        <td id=\"T_9de3657c_9e4d_11eb_ba96_784f436a046arow6_col3\" class=\"data row6 col3\" >$4.76</td>\n",
       "            </tr>\n",
       "            <tr>\n",
       "                        <th id=\"T_9de3657c_9e4d_11eb_ba96_784f436a046alevel0_row7\" class=\"row_heading level0 row7\" >40+</th>\n",
       "                        <td id=\"T_9de3657c_9e4d_11eb_ba96_784f436a046arow7_col0\" class=\"data row7 col0\" >13</td>\n",
       "                        <td id=\"T_9de3657c_9e4d_11eb_ba96_784f436a046arow7_col1\" class=\"data row7 col1\" >$2.94</td>\n",
       "                        <td id=\"T_9de3657c_9e4d_11eb_ba96_784f436a046arow7_col2\" class=\"data row7 col2\" >$38.24</td>\n",
       "                        <td id=\"T_9de3657c_9e4d_11eb_ba96_784f436a046arow7_col3\" class=\"data row7 col3\" >$3.19</td>\n",
       "            </tr>\n",
       "    </tbody></table>"
      ],
      "text/plain": [
       "<pandas.io.formats.style.Styler at 0x7f9ef8bd4fd0>"
      ]
     },
     "execution_count": 7,
     "metadata": {},
     "output_type": "execute_result"
    }
   ],
   "source": [
    "#Creating new df with bins\n",
    "age_range = purchase_data_df.copy()\n",
    "age_range[\"Age Ranges\"] = pd.cut(purchase_data_df['Age'],bins,labels=age_categories,include_lowest=True)\n",
    "\n",
    "#Group by age ranges and price to obtain count, mean, sum\n",
    "age_range_grouped = age_range.groupby(\"Age Ranges\")[\"Price\"].agg(['count','mean','sum'])\n",
    "\n",
    "#Add avg total purchase/person to df  **Saved a step from earlier\n",
    "age_range_grouped[\"Avg Total Purchase per Person\"] = age_range_grouped['sum']/grouped_bins_renamed_df[\"Total Count\"]\n",
    "\n",
    "#Rename\n",
    "age_range_grouped = age_range_grouped.rename(columns={\n",
    "    \"count\":\"Purchase Count\",\n",
    "    \"mean\":\"Average Purchase Price\",\n",
    "    \"sum\":\"Total Purchase Value\"\n",
    "})\n",
    "\n",
    "#Store in new and format\n",
    "purchasing_analysis_age = age_range_grouped.style.format({\n",
    "    'Average Purchase Price':'${:,.2f}',\n",
    "    'Total Purchase Value':'${:,.2f}',\n",
    "    'Avg Total Purchase per Person':'${:,.2f}' \n",
    "})\n",
    "purchasing_analysis_age.set_properties(**{'text-align': 'left'}).set_table_styles([dict(selector='th', props=[('text-align', 'left')])])\n"
   ]
  },
  {
   "cell_type": "markdown",
   "metadata": {},
   "source": [
    "## Top Spenders"
   ]
  },
  {
   "cell_type": "markdown",
   "metadata": {},
   "source": [
    "* Run basic calculations to obtain the results in the table below\n",
    "\n",
    "\n",
    "* Create a summary data frame to hold the results\n",
    "\n",
    "\n",
    "* Sort the total purchase value column in descending order\n",
    "\n",
    "\n",
    "* Optional: give the displayed data cleaner formatting\n",
    "\n",
    "\n",
    "* Display a preview of the summary data frame\n",
    "\n"
   ]
  },
  {
   "cell_type": "code",
   "execution_count": 8,
   "metadata": {},
   "outputs": [
    {
     "data": {
      "text/html": [
       "<style  type=\"text/css\" >\n",
       "    #T_9dee3d6c_9e4d_11eb_ba96_784f436a046a th {\n",
       "          text-align: left;\n",
       "    }#T_9dee3d6c_9e4d_11eb_ba96_784f436a046arow0_col0,#T_9dee3d6c_9e4d_11eb_ba96_784f436a046arow0_col1,#T_9dee3d6c_9e4d_11eb_ba96_784f436a046arow0_col2,#T_9dee3d6c_9e4d_11eb_ba96_784f436a046arow1_col0,#T_9dee3d6c_9e4d_11eb_ba96_784f436a046arow1_col1,#T_9dee3d6c_9e4d_11eb_ba96_784f436a046arow1_col2,#T_9dee3d6c_9e4d_11eb_ba96_784f436a046arow2_col0,#T_9dee3d6c_9e4d_11eb_ba96_784f436a046arow2_col1,#T_9dee3d6c_9e4d_11eb_ba96_784f436a046arow2_col2,#T_9dee3d6c_9e4d_11eb_ba96_784f436a046arow3_col0,#T_9dee3d6c_9e4d_11eb_ba96_784f436a046arow3_col1,#T_9dee3d6c_9e4d_11eb_ba96_784f436a046arow3_col2,#T_9dee3d6c_9e4d_11eb_ba96_784f436a046arow4_col0,#T_9dee3d6c_9e4d_11eb_ba96_784f436a046arow4_col1,#T_9dee3d6c_9e4d_11eb_ba96_784f436a046arow4_col2{\n",
       "            text-align:  left;\n",
       "        }</style><table id=\"T_9dee3d6c_9e4d_11eb_ba96_784f436a046a\" ><thead>    <tr>        <th class=\"blank level0\" ></th>        <th class=\"col_heading level0 col0\" >Purchase Count</th>        <th class=\"col_heading level0 col1\" >Average Purchase Price</th>        <th class=\"col_heading level0 col2\" >Total Purchase Value</th>    </tr>    <tr>        <th class=\"index_name level0\" >SN</th>        <th class=\"blank\" ></th>        <th class=\"blank\" ></th>        <th class=\"blank\" ></th>    </tr></thead><tbody>\n",
       "                <tr>\n",
       "                        <th id=\"T_9dee3d6c_9e4d_11eb_ba96_784f436a046alevel0_row0\" class=\"row_heading level0 row0\" >Lisosia93</th>\n",
       "                        <td id=\"T_9dee3d6c_9e4d_11eb_ba96_784f436a046arow0_col0\" class=\"data row0 col0\" >5</td>\n",
       "                        <td id=\"T_9dee3d6c_9e4d_11eb_ba96_784f436a046arow0_col1\" class=\"data row0 col1\" >$3.79</td>\n",
       "                        <td id=\"T_9dee3d6c_9e4d_11eb_ba96_784f436a046arow0_col2\" class=\"data row0 col2\" >$18.96</td>\n",
       "            </tr>\n",
       "            <tr>\n",
       "                        <th id=\"T_9dee3d6c_9e4d_11eb_ba96_784f436a046alevel0_row1\" class=\"row_heading level0 row1\" >Idastidru52</th>\n",
       "                        <td id=\"T_9dee3d6c_9e4d_11eb_ba96_784f436a046arow1_col0\" class=\"data row1 col0\" >4</td>\n",
       "                        <td id=\"T_9dee3d6c_9e4d_11eb_ba96_784f436a046arow1_col1\" class=\"data row1 col1\" >$3.86</td>\n",
       "                        <td id=\"T_9dee3d6c_9e4d_11eb_ba96_784f436a046arow1_col2\" class=\"data row1 col2\" >$15.45</td>\n",
       "            </tr>\n",
       "            <tr>\n",
       "                        <th id=\"T_9dee3d6c_9e4d_11eb_ba96_784f436a046alevel0_row2\" class=\"row_heading level0 row2\" >Chamjask73</th>\n",
       "                        <td id=\"T_9dee3d6c_9e4d_11eb_ba96_784f436a046arow2_col0\" class=\"data row2 col0\" >3</td>\n",
       "                        <td id=\"T_9dee3d6c_9e4d_11eb_ba96_784f436a046arow2_col1\" class=\"data row2 col1\" >$4.61</td>\n",
       "                        <td id=\"T_9dee3d6c_9e4d_11eb_ba96_784f436a046arow2_col2\" class=\"data row2 col2\" >$13.83</td>\n",
       "            </tr>\n",
       "            <tr>\n",
       "                        <th id=\"T_9dee3d6c_9e4d_11eb_ba96_784f436a046alevel0_row3\" class=\"row_heading level0 row3\" >Iral74</th>\n",
       "                        <td id=\"T_9dee3d6c_9e4d_11eb_ba96_784f436a046arow3_col0\" class=\"data row3 col0\" >4</td>\n",
       "                        <td id=\"T_9dee3d6c_9e4d_11eb_ba96_784f436a046arow3_col1\" class=\"data row3 col1\" >$3.40</td>\n",
       "                        <td id=\"T_9dee3d6c_9e4d_11eb_ba96_784f436a046arow3_col2\" class=\"data row3 col2\" >$13.62</td>\n",
       "            </tr>\n",
       "            <tr>\n",
       "                        <th id=\"T_9dee3d6c_9e4d_11eb_ba96_784f436a046alevel0_row4\" class=\"row_heading level0 row4\" >Iskadarya95</th>\n",
       "                        <td id=\"T_9dee3d6c_9e4d_11eb_ba96_784f436a046arow4_col0\" class=\"data row4 col0\" >3</td>\n",
       "                        <td id=\"T_9dee3d6c_9e4d_11eb_ba96_784f436a046arow4_col1\" class=\"data row4 col1\" >$4.37</td>\n",
       "                        <td id=\"T_9dee3d6c_9e4d_11eb_ba96_784f436a046arow4_col2\" class=\"data row4 col2\" >$13.10</td>\n",
       "            </tr>\n",
       "    </tbody></table>"
      ],
      "text/plain": [
       "<pandas.io.formats.style.Styler at 0x7f9ef8c708e0>"
      ]
     },
     "execution_count": 8,
     "metadata": {},
     "output_type": "execute_result"
    }
   ],
   "source": [
    "#Create a new df and rename columns\n",
    "top_spenders = purchase_data_df.groupby(\"SN\")[\"Price\"].agg(['count','mean','sum'])\n",
    "top_spenders_renamed = top_spenders.rename(columns={\n",
    "    \"count\":\"Purchase Count\",\n",
    "    \"mean\":\"Average Purchase Price\",\n",
    "    \"sum\":\"Total Purchase Value\"\n",
    "})\n",
    "#Sort and format, used head while formatting since Stylers don't have that attribute\n",
    "top_spender_sorted = top_spenders_renamed.sort_values(\"Total Purchase Value\", ascending=False)\n",
    "top_spender_format = top_spender_sorted.head().style.format({\n",
    "    'Average Purchase Price':'${:,.2f}',\n",
    "    'Total Purchase Value':'${:,.2f}',\n",
    "})\n",
    "top_spender_format.set_properties(**{'text-align': 'left'}).set_table_styles([dict(selector='th', props=[('text-align', 'left')])])"
   ]
  },
  {
   "cell_type": "markdown",
   "metadata": {},
   "source": [
    "## Most Popular Items"
   ]
  },
  {
   "cell_type": "markdown",
   "metadata": {},
   "source": [
    "* Retrieve the Item ID, Item Name, and Item Price columns\n",
    "\n",
    "\n",
    "* Group by Item ID and Item Name. Perform calculations to obtain purchase count, average item price, and total purchase value\n",
    "\n",
    "\n",
    "* Create a summary data frame to hold the results\n",
    "\n",
    "\n",
    "* Sort the purchase count column in descending order\n",
    "\n",
    "\n",
    "* Optional: give the displayed data cleaner formatting\n",
    "\n",
    "\n",
    "* Display a preview of the summary data frame\n",
    "\n"
   ]
  },
  {
   "cell_type": "code",
   "execution_count": 9,
   "metadata": {},
   "outputs": [
    {
     "data": {
      "text/html": [
       "<style  type=\"text/css\" >\n",
       "    #T_9df750b4_9e4d_11eb_ba96_784f436a046a th {\n",
       "          text-align: left;\n",
       "    }#T_9df750b4_9e4d_11eb_ba96_784f436a046arow0_col0,#T_9df750b4_9e4d_11eb_ba96_784f436a046arow0_col1,#T_9df750b4_9e4d_11eb_ba96_784f436a046arow0_col2,#T_9df750b4_9e4d_11eb_ba96_784f436a046arow1_col0,#T_9df750b4_9e4d_11eb_ba96_784f436a046arow1_col1,#T_9df750b4_9e4d_11eb_ba96_784f436a046arow1_col2,#T_9df750b4_9e4d_11eb_ba96_784f436a046arow2_col0,#T_9df750b4_9e4d_11eb_ba96_784f436a046arow2_col1,#T_9df750b4_9e4d_11eb_ba96_784f436a046arow2_col2,#T_9df750b4_9e4d_11eb_ba96_784f436a046arow3_col0,#T_9df750b4_9e4d_11eb_ba96_784f436a046arow3_col1,#T_9df750b4_9e4d_11eb_ba96_784f436a046arow3_col2,#T_9df750b4_9e4d_11eb_ba96_784f436a046arow4_col0,#T_9df750b4_9e4d_11eb_ba96_784f436a046arow4_col1,#T_9df750b4_9e4d_11eb_ba96_784f436a046arow4_col2{\n",
       "            text-align:  left;\n",
       "        }</style><table id=\"T_9df750b4_9e4d_11eb_ba96_784f436a046a\" ><thead>    <tr>        <th class=\"blank\" ></th>        <th class=\"blank level0\" ></th>        <th class=\"col_heading level0 col0\" >Purchase Count</th>        <th class=\"col_heading level0 col1\" >Average Purchase Price</th>        <th class=\"col_heading level0 col2\" >Total Purchase Value</th>    </tr>    <tr>        <th class=\"index_name level0\" >Item ID</th>        <th class=\"index_name level1\" >Item Name</th>        <th class=\"blank\" ></th>        <th class=\"blank\" ></th>        <th class=\"blank\" ></th>    </tr></thead><tbody>\n",
       "                <tr>\n",
       "                        <th id=\"T_9df750b4_9e4d_11eb_ba96_784f436a046alevel0_row0\" class=\"row_heading level0 row0\" >92</th>\n",
       "                        <th id=\"T_9df750b4_9e4d_11eb_ba96_784f436a046alevel1_row0\" class=\"row_heading level1 row0\" >Final Critic</th>\n",
       "                        <td id=\"T_9df750b4_9e4d_11eb_ba96_784f436a046arow0_col0\" class=\"data row0 col0\" >13</td>\n",
       "                        <td id=\"T_9df750b4_9e4d_11eb_ba96_784f436a046arow0_col1\" class=\"data row0 col1\" >$4.61</td>\n",
       "                        <td id=\"T_9df750b4_9e4d_11eb_ba96_784f436a046arow0_col2\" class=\"data row0 col2\" >$59.99</td>\n",
       "            </tr>\n",
       "            <tr>\n",
       "                        <th id=\"T_9df750b4_9e4d_11eb_ba96_784f436a046alevel0_row1\" class=\"row_heading level0 row1\" >178</th>\n",
       "                        <th id=\"T_9df750b4_9e4d_11eb_ba96_784f436a046alevel1_row1\" class=\"row_heading level1 row1\" >Oathbreaker, Last Hope of the Breaking Storm</th>\n",
       "                        <td id=\"T_9df750b4_9e4d_11eb_ba96_784f436a046arow1_col0\" class=\"data row1 col0\" >12</td>\n",
       "                        <td id=\"T_9df750b4_9e4d_11eb_ba96_784f436a046arow1_col1\" class=\"data row1 col1\" >$4.23</td>\n",
       "                        <td id=\"T_9df750b4_9e4d_11eb_ba96_784f436a046arow1_col2\" class=\"data row1 col2\" >$50.76</td>\n",
       "            </tr>\n",
       "            <tr>\n",
       "                        <th id=\"T_9df750b4_9e4d_11eb_ba96_784f436a046alevel0_row2\" class=\"row_heading level0 row2\" >145</th>\n",
       "                        <th id=\"T_9df750b4_9e4d_11eb_ba96_784f436a046alevel1_row2\" class=\"row_heading level1 row2\" >Fiery Glass Crusader</th>\n",
       "                        <td id=\"T_9df750b4_9e4d_11eb_ba96_784f436a046arow2_col0\" class=\"data row2 col0\" >9</td>\n",
       "                        <td id=\"T_9df750b4_9e4d_11eb_ba96_784f436a046arow2_col1\" class=\"data row2 col1\" >$4.58</td>\n",
       "                        <td id=\"T_9df750b4_9e4d_11eb_ba96_784f436a046arow2_col2\" class=\"data row2 col2\" >$41.22</td>\n",
       "            </tr>\n",
       "            <tr>\n",
       "                        <th id=\"T_9df750b4_9e4d_11eb_ba96_784f436a046alevel0_row3\" class=\"row_heading level0 row3\" >132</th>\n",
       "                        <th id=\"T_9df750b4_9e4d_11eb_ba96_784f436a046alevel1_row3\" class=\"row_heading level1 row3\" >Persuasion</th>\n",
       "                        <td id=\"T_9df750b4_9e4d_11eb_ba96_784f436a046arow3_col0\" class=\"data row3 col0\" >9</td>\n",
       "                        <td id=\"T_9df750b4_9e4d_11eb_ba96_784f436a046arow3_col1\" class=\"data row3 col1\" >$3.22</td>\n",
       "                        <td id=\"T_9df750b4_9e4d_11eb_ba96_784f436a046arow3_col2\" class=\"data row3 col2\" >$28.99</td>\n",
       "            </tr>\n",
       "            <tr>\n",
       "                        <th id=\"T_9df750b4_9e4d_11eb_ba96_784f436a046alevel0_row4\" class=\"row_heading level0 row4\" >108</th>\n",
       "                        <th id=\"T_9df750b4_9e4d_11eb_ba96_784f436a046alevel1_row4\" class=\"row_heading level1 row4\" >Extraction, Quickblade Of Trembling Hands</th>\n",
       "                        <td id=\"T_9df750b4_9e4d_11eb_ba96_784f436a046arow4_col0\" class=\"data row4 col0\" >9</td>\n",
       "                        <td id=\"T_9df750b4_9e4d_11eb_ba96_784f436a046arow4_col1\" class=\"data row4 col1\" >$3.53</td>\n",
       "                        <td id=\"T_9df750b4_9e4d_11eb_ba96_784f436a046arow4_col2\" class=\"data row4 col2\" >$31.77</td>\n",
       "            </tr>\n",
       "    </tbody></table>"
      ],
      "text/plain": [
       "<pandas.io.formats.style.Styler at 0x7f9ef8d10c10>"
      ]
     },
     "execution_count": 9,
     "metadata": {},
     "output_type": "execute_result"
    }
   ],
   "source": [
    "#Create a new df and rename columns\n",
    "popular_items = purchase_data_df.groupby([\"Item ID\",\"Item Name\"])[\"Price\"].agg(['count','mean','sum'])\n",
    "popular_items_renamed = popular_items.rename(columns={\n",
    "    \"count\":\"Purchase Count\",\n",
    "    \"mean\":\"Average Purchase Price\",\n",
    "    \"sum\":\"Total Purchase Value\"\n",
    "})\n",
    "\n",
    "#Sort and format\n",
    "popular_items_sorted_count = popular_items_renamed.sort_values(\"Purchase Count\", ascending=False)\n",
    "popular_items_format_count = popular_items_sorted_count.head().style.format({\n",
    "    'Average Purchase Price':'${:,.2f}',\n",
    "    'Total Purchase Value':'${:,.2f}',\n",
    "})\n",
    "popular_items_format_count.set_properties(**{'text-align': 'left'}).set_table_styles([dict(selector='th', props=[('text-align', 'left')])])"
   ]
  },
  {
   "cell_type": "markdown",
   "metadata": {},
   "source": [
    "## Most Profitable Items"
   ]
  },
  {
   "cell_type": "markdown",
   "metadata": {},
   "source": [
    "* Sort the above table by total purchase value in descending order\n",
    "\n",
    "\n",
    "* Optional: give the displayed data cleaner formatting\n",
    "\n",
    "\n",
    "* Display a preview of the data frame\n",
    "\n"
   ]
  },
  {
   "cell_type": "code",
   "execution_count": 10,
   "metadata": {
    "scrolled": true
   },
   "outputs": [
    {
     "data": {
      "text/html": [
       "<style  type=\"text/css\" >\n",
       "    #T_9dff1d3a_9e4d_11eb_ba96_784f436a046a th {\n",
       "          text-align: left;\n",
       "    }#T_9dff1d3a_9e4d_11eb_ba96_784f436a046arow0_col0,#T_9dff1d3a_9e4d_11eb_ba96_784f436a046arow0_col1,#T_9dff1d3a_9e4d_11eb_ba96_784f436a046arow0_col2,#T_9dff1d3a_9e4d_11eb_ba96_784f436a046arow1_col0,#T_9dff1d3a_9e4d_11eb_ba96_784f436a046arow1_col1,#T_9dff1d3a_9e4d_11eb_ba96_784f436a046arow1_col2,#T_9dff1d3a_9e4d_11eb_ba96_784f436a046arow2_col0,#T_9dff1d3a_9e4d_11eb_ba96_784f436a046arow2_col1,#T_9dff1d3a_9e4d_11eb_ba96_784f436a046arow2_col2,#T_9dff1d3a_9e4d_11eb_ba96_784f436a046arow3_col0,#T_9dff1d3a_9e4d_11eb_ba96_784f436a046arow3_col1,#T_9dff1d3a_9e4d_11eb_ba96_784f436a046arow3_col2,#T_9dff1d3a_9e4d_11eb_ba96_784f436a046arow4_col0,#T_9dff1d3a_9e4d_11eb_ba96_784f436a046arow4_col1,#T_9dff1d3a_9e4d_11eb_ba96_784f436a046arow4_col2{\n",
       "            text-align:  left;\n",
       "        }</style><table id=\"T_9dff1d3a_9e4d_11eb_ba96_784f436a046a\" ><thead>    <tr>        <th class=\"blank\" ></th>        <th class=\"blank level0\" ></th>        <th class=\"col_heading level0 col0\" >Purchase Count</th>        <th class=\"col_heading level0 col1\" >Average Purchase Price</th>        <th class=\"col_heading level0 col2\" >Total Purchase Value</th>    </tr>    <tr>        <th class=\"index_name level0\" >Item ID</th>        <th class=\"index_name level1\" >Item Name</th>        <th class=\"blank\" ></th>        <th class=\"blank\" ></th>        <th class=\"blank\" ></th>    </tr></thead><tbody>\n",
       "                <tr>\n",
       "                        <th id=\"T_9dff1d3a_9e4d_11eb_ba96_784f436a046alevel0_row0\" class=\"row_heading level0 row0\" >92</th>\n",
       "                        <th id=\"T_9dff1d3a_9e4d_11eb_ba96_784f436a046alevel1_row0\" class=\"row_heading level1 row0\" >Final Critic</th>\n",
       "                        <td id=\"T_9dff1d3a_9e4d_11eb_ba96_784f436a046arow0_col0\" class=\"data row0 col0\" >13</td>\n",
       "                        <td id=\"T_9dff1d3a_9e4d_11eb_ba96_784f436a046arow0_col1\" class=\"data row0 col1\" >$4.61</td>\n",
       "                        <td id=\"T_9dff1d3a_9e4d_11eb_ba96_784f436a046arow0_col2\" class=\"data row0 col2\" >$59.99</td>\n",
       "            </tr>\n",
       "            <tr>\n",
       "                        <th id=\"T_9dff1d3a_9e4d_11eb_ba96_784f436a046alevel0_row1\" class=\"row_heading level0 row1\" >178</th>\n",
       "                        <th id=\"T_9dff1d3a_9e4d_11eb_ba96_784f436a046alevel1_row1\" class=\"row_heading level1 row1\" >Oathbreaker, Last Hope of the Breaking Storm</th>\n",
       "                        <td id=\"T_9dff1d3a_9e4d_11eb_ba96_784f436a046arow1_col0\" class=\"data row1 col0\" >12</td>\n",
       "                        <td id=\"T_9dff1d3a_9e4d_11eb_ba96_784f436a046arow1_col1\" class=\"data row1 col1\" >$4.23</td>\n",
       "                        <td id=\"T_9dff1d3a_9e4d_11eb_ba96_784f436a046arow1_col2\" class=\"data row1 col2\" >$50.76</td>\n",
       "            </tr>\n",
       "            <tr>\n",
       "                        <th id=\"T_9dff1d3a_9e4d_11eb_ba96_784f436a046alevel0_row2\" class=\"row_heading level0 row2\" >82</th>\n",
       "                        <th id=\"T_9dff1d3a_9e4d_11eb_ba96_784f436a046alevel1_row2\" class=\"row_heading level1 row2\" >Nirvana</th>\n",
       "                        <td id=\"T_9dff1d3a_9e4d_11eb_ba96_784f436a046arow2_col0\" class=\"data row2 col0\" >9</td>\n",
       "                        <td id=\"T_9dff1d3a_9e4d_11eb_ba96_784f436a046arow2_col1\" class=\"data row2 col1\" >$4.90</td>\n",
       "                        <td id=\"T_9dff1d3a_9e4d_11eb_ba96_784f436a046arow2_col2\" class=\"data row2 col2\" >$44.10</td>\n",
       "            </tr>\n",
       "            <tr>\n",
       "                        <th id=\"T_9dff1d3a_9e4d_11eb_ba96_784f436a046alevel0_row3\" class=\"row_heading level0 row3\" >145</th>\n",
       "                        <th id=\"T_9dff1d3a_9e4d_11eb_ba96_784f436a046alevel1_row3\" class=\"row_heading level1 row3\" >Fiery Glass Crusader</th>\n",
       "                        <td id=\"T_9dff1d3a_9e4d_11eb_ba96_784f436a046arow3_col0\" class=\"data row3 col0\" >9</td>\n",
       "                        <td id=\"T_9dff1d3a_9e4d_11eb_ba96_784f436a046arow3_col1\" class=\"data row3 col1\" >$4.58</td>\n",
       "                        <td id=\"T_9dff1d3a_9e4d_11eb_ba96_784f436a046arow3_col2\" class=\"data row3 col2\" >$41.22</td>\n",
       "            </tr>\n",
       "            <tr>\n",
       "                        <th id=\"T_9dff1d3a_9e4d_11eb_ba96_784f436a046alevel0_row4\" class=\"row_heading level0 row4\" >103</th>\n",
       "                        <th id=\"T_9dff1d3a_9e4d_11eb_ba96_784f436a046alevel1_row4\" class=\"row_heading level1 row4\" >Singed Scalpel</th>\n",
       "                        <td id=\"T_9dff1d3a_9e4d_11eb_ba96_784f436a046arow4_col0\" class=\"data row4 col0\" >8</td>\n",
       "                        <td id=\"T_9dff1d3a_9e4d_11eb_ba96_784f436a046arow4_col1\" class=\"data row4 col1\" >$4.35</td>\n",
       "                        <td id=\"T_9dff1d3a_9e4d_11eb_ba96_784f436a046arow4_col2\" class=\"data row4 col2\" >$34.80</td>\n",
       "            </tr>\n",
       "    </tbody></table>"
      ],
      "text/plain": [
       "<pandas.io.formats.style.Styler at 0x7f9ef8c70160>"
      ]
     },
     "execution_count": 10,
     "metadata": {},
     "output_type": "execute_result"
    }
   ],
   "source": [
    "#Sort and format\n",
    "popular_items_sorted_total = popular_items_renamed.sort_values(\"Total Purchase Value\", ascending=False)\n",
    "popular_items_format_total = popular_items_sorted_total.head().style.format({\n",
    "    'Average Purchase Price':'${:,.2f}',\n",
    "    'Total Purchase Value':'${:,.2f}',\n",
    "})\n",
    "popular_items_format_total.set_properties(**{'text-align': 'left'}).set_table_styles([dict(selector='th', props=[('text-align', 'left')])])"
   ]
  },
  {
   "cell_type": "markdown",
   "metadata": {},
   "source": [
    "\n",
    "## Conclusions"
   ]
  },
  {
   "cell_type": "markdown",
   "metadata": {},
   "source": [
    "After analyzing the In-Game Purchasing Data we can observe there are the following trends:\n",
    "\n",
    "  * 84% of purchases were made by Male players\n",
    "  * 45% of purchases were made by players are in the Age Range of 20-24 years\n",
    "  * Normal distribution for Purchases by Age Range\n",
    "  * The most popular item was \"Final Critic\" but represents less than 3% of Number of Purchases and Total Purchase Value\n",
    "  \n",
    "In conclusion Gender and Age Demographics are important factors to take into consideration for designing Items in the Shop and the main focus should be on male players in the 20-24 age group. \n",
    "\n"
   ]
  },
  {
   "cell_type": "code",
   "execution_count": null,
   "metadata": {},
   "outputs": [],
   "source": []
  }
 ],
 "metadata": {
  "anaconda-cloud": {},
  "kernel_info": {
   "name": "python3"
  },
  "kernelspec": {
   "display_name": "Python 3",
   "language": "python",
   "name": "python3"
  },
  "language_info": {
   "codemirror_mode": {
    "name": "ipython",
    "version": 3
   },
   "file_extension": ".py",
   "mimetype": "text/x-python",
   "name": "python",
   "nbconvert_exporter": "python",
   "pygments_lexer": "ipython3",
   "version": "3.8.5"
  },
  "latex_envs": {
   "LaTeX_envs_menu_present": true,
   "autoclose": false,
   "autocomplete": true,
   "bibliofile": "biblio.bib",
   "cite_by": "apalike",
   "current_citInitial": 1,
   "eqLabelWithNumbers": true,
   "eqNumInitial": 1,
   "hotkeys": {
    "equation": "Ctrl-E",
    "itemize": "Ctrl-I"
   },
   "labels_anchors": false,
   "latex_user_defs": false,
   "report_style_numbering": false,
   "user_envs_cfg": false
  },
  "nteract": {
   "version": "0.2.0"
  }
 },
 "nbformat": 4,
 "nbformat_minor": 2
}
